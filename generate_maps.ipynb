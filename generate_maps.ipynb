{
 "cells": [
  {
   "cell_type": "code",
   "execution_count": 1,
   "metadata": {},
   "outputs": [],
   "source": [
    "from plot_params_utils import plot_gridded_param, make_dir"
   ]
  },
  {
   "cell_type": "code",
   "execution_count": 4,
   "metadata": {},
   "outputs": [],
   "source": [
    "for param_i in range(0,10):\n",
    "    # make_dir(os.getcwd() + f'\\param_maps'); make_dir(os.getcwd() + f'\\param_maps\\betaparam{param_i}')\n",
    "    for pres_i in range(0,29):\n",
    "        plot_gridded_param('beta', pres_i, param_i)\n"
   ]
  },
  {
   "cell_type": "code",
   "execution_count": 6,
   "metadata": {},
   "outputs": [
    {
     "name": "stdout",
     "output_type": "stream",
     "text": [
      "pangeo-argo-eke/global/plots/param_maps/betaparam_maps/betaparam0/beta_map_plevel0_param0.png\n",
      "pangeo-argo-eke/global/plots/param_maps/betaparam_maps/betaparam0/beta_map_plevel10_param0.png\n",
      "pangeo-argo-eke/global/plots/param_maps/betaparam_maps/betaparam0/beta_map_plevel11_param0.png\n",
      "pangeo-argo-eke/global/plots/param_maps/betaparam_maps/betaparam0/beta_map_plevel12_param0.png\n",
      "pangeo-argo-eke/global/plots/param_maps/betaparam_maps/betaparam0/beta_map_plevel13_param0.png\n",
      "pangeo-argo-eke/global/plots/param_maps/betaparam_maps/betaparam0/beta_map_plevel14_param0.png\n",
      "pangeo-argo-eke/global/plots/param_maps/betaparam_maps/betaparam0/beta_map_plevel15_param0.png\n",
      "pangeo-argo-eke/global/plots/param_maps/betaparam_maps/betaparam0/beta_map_plevel16_param0.png\n",
      "pangeo-argo-eke/global/plots/param_maps/betaparam_maps/betaparam0/beta_map_plevel17_param0.png\n",
      "pangeo-argo-eke/global/plots/param_maps/betaparam_maps/betaparam0/beta_map_plevel18_param0.png\n",
      "pangeo-argo-eke/global/plots/param_maps/betaparam_maps/betaparam0/beta_map_plevel19_param0.png\n",
      "pangeo-argo-eke/global/plots/param_maps/betaparam_maps/betaparam0/beta_map_plevel1_param0.png\n",
      "pangeo-argo-eke/global/plots/param_maps/betaparam_maps/betaparam0/beta_map_plevel20_param0.png\n",
      "pangeo-argo-eke/global/plots/param_maps/betaparam_maps/betaparam0/beta_map_plevel21_param0.png\n",
      "pangeo-argo-eke/global/plots/param_maps/betaparam_maps/betaparam0/beta_map_plevel22_param0.png\n",
      "pangeo-argo-eke/global/plots/param_maps/betaparam_maps/betaparam0/beta_map_plevel23_param0.png\n",
      "pangeo-argo-eke/global/plots/param_maps/betaparam_maps/betaparam0/beta_map_plevel24_param0.png\n",
      "pangeo-argo-eke/global/plots/param_maps/betaparam_maps/betaparam0/beta_map_plevel25_param0.png\n",
      "pangeo-argo-eke/global/plots/param_maps/betaparam_maps/betaparam0/beta_map_plevel26_param0.png\n",
      "pangeo-argo-eke/global/plots/param_maps/betaparam_maps/betaparam0/beta_map_plevel27_param0.png\n",
      "pangeo-argo-eke/global/plots/param_maps/betaparam_maps/betaparam0/beta_map_plevel28_param0.png\n",
      "pangeo-argo-eke/global/plots/param_maps/betaparam_maps/betaparam0/beta_map_plevel2_param0.png\n",
      "pangeo-argo-eke/global/plots/param_maps/betaparam_maps/betaparam0/beta_map_plevel3_param0.png\n",
      "pangeo-argo-eke/global/plots/param_maps/betaparam_maps/betaparam0/beta_map_plevel4_param0.png\n",
      "pangeo-argo-eke/global/plots/param_maps/betaparam_maps/betaparam0/beta_map_plevel5_param0.png\n",
      "pangeo-argo-eke/global/plots/param_maps/betaparam_maps/betaparam0/beta_map_plevel6_param0.png\n",
      "pangeo-argo-eke/global/plots/param_maps/betaparam_maps/betaparam0/beta_map_plevel7_param0.png\n",
      "pangeo-argo-eke/global/plots/param_maps/betaparam_maps/betaparam0/beta_map_plevel8_param0.png\n",
      "pangeo-argo-eke/global/plots/param_maps/betaparam_maps/betaparam0/beta_map_plevel9_param0.png\n"
     ]
    }
   ],
   "source": [
    "import json\n",
    "import gcsfs\n",
    "import os\n",
    "\n",
    "fp = r'C:\\Users\\annab\\Desktop\\ArgoEKE\\github-argo-eke\\data\\pangeo-181919-e7bc5bdaf4d5.json'\n",
    "with open(fp) as f:\n",
    "    token = json.load(f)\n",
    "gcs = gcsfs.GCSFileSystem(token=token) # file system instance\n",
    "\n",
    "fp = 'pangeo-argo-eke/global/plots/param_maps/betaparam_maps/betaparam0' #/small_scale_parameters' # /large_scale_parameters\n",
    "\n",
    "files = gcs.ls(fp)\n",
    "for f in files: print(f)"
   ]
  },
  {
   "cell_type": "code",
   "execution_count": null,
   "metadata": {},
   "outputs": [],
   "source": [
    "# level_arr = [5,10,20,30,50,75,100,125,150,200,250,300,400,500,600,700,800,\n",
    "#            900,1000,1100,1200,1300,1400,1500,1600,1700,1800,1900,2000] #,2100]\n",
    "\n",
    "# fp = 'pangeo-argo-eke/global/large_scale_parameters/with_pressure_coordinate' #/small_scale_parameters' # /large_scale_parameters\n",
    "\n",
    "# files = gcs.ls(fp)\n",
    "# for f in files: print(f)\n",
    "# GCSpath=0'pangeo-argo-eke/global/large_scale_parameters/with_pressure_coordinate/betaparameters_global_ws500_plevel0.zarr'\n",
    "# # GCSpath='pangeo-argo-eke/global/large_scale_parameters/betaparameters_global_ws500_plevel{i}.zarr'.format(i=plevel)\n",
    "# # GCSpath='pangeo-argo-eke/global/small_scale_parameters/covparameters_global_ws500_N24_plevel'+str(plevel)+'.zarr'\n",
    "# GCSmapper = gcs.get_mapper(GCSpath)\n",
    "# betaparams_ds = xr.open_zarr(GCSmapper)\n",
    "# betaparams_ds\n",
    "\n",
    "\n",
    "# github script-comparison branch > methods > plots > plot_computed_parameters > \n",
    "# [MAIN INTERACTIVE NOTEBOOK] plot_params_tool.ipynb\n",
    "# param_maps > betaparam > 10 folders > 28 images\n",
    "# plot_params_utils.ipynb\n"
   ]
  }
 ],
 "metadata": {
  "kernelspec": {
   "display_name": "ocean2",
   "language": "python",
   "name": "python3"
  },
  "language_info": {
   "codemirror_mode": {
    "name": "ipython",
    "version": 3
   },
   "file_extension": ".py",
   "mimetype": "text/x-python",
   "name": "python",
   "nbconvert_exporter": "python",
   "pygments_lexer": "ipython3",
   "version": "3.9.16"
  },
  "orig_nbformat": 4
 },
 "nbformat": 4,
 "nbformat_minor": 2
}
