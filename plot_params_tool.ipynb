{
 "cells": [
  {
   "attachments": {},
   "cell_type": "markdown",
   "metadata": {},
   "source": [
    "### An interactive tool for the user to select the parameters they want to plot, choosing the field, pressure level, parameter index\n",
    "#### **note: covar param and dyn ht are not functional yet **"
   ]
  },
  {
   "cell_type": "code",
   "execution_count": 1,
   "metadata": {},
   "outputs": [
    {
     "data": {
      "application/vnd.jupyter.widget-view+json": {
       "model_id": "07bf60f4f62b44cba28c37044999efba",
       "version_major": 2,
       "version_minor": 0
      },
      "text/plain": [
       "VBox(children=(IntSlider(value=0, description='Betaparameter index', layout=Layout(margin='10px 0px', width='6…"
      ]
     },
     "metadata": {},
     "output_type": "display_data"
    },
    {
     "data": {
      "application/vnd.jupyter.widget-view+json": {
       "model_id": "b2b98e1d9ed942f4a06216ac9ace30a8",
       "version_major": 2,
       "version_minor": 0
      },
      "text/plain": [
       "Output()"
      ]
     },
     "metadata": {},
     "output_type": "display_data"
    }
   ],
   "source": [
    "from plot_params_utils import plot_params_tool_button\n",
    "\n",
    "plot_params_tool_button()"
   ]
  },
  {
   "attachments": {},
   "cell_type": "markdown",
   "metadata": {},
   "source": [
    "Q: what can be changed to make the plots more useful?\n",
    "- if it was a live plot perhaps could have zoom/hover options\n",
    "\n",
    "Q: do you think the colorbars on the plots should all have the same range. They currently have different ranges that are determined by that parameter's range at that pressure level. But I was thinking that if they all had the same range, then they could be more easily compared between  parameters but perhaps that would reduce the visibility of variation within a specific parameter at a specific pressure level... I guess it just depends on how they maps are being looked at ....\n",
    "\n",
    "Q: should the regions we are ignoring data (seas, coastal, etc.) also be ignored in the parameters? \n",
    " - parameters were not computed for the gulf of mexico, should that beadded as a region to ignore all data?"
   ]
  }
 ],
 "metadata": {
  "kernelspec": {
   "display_name": "ocean2",
   "language": "python",
   "name": "python3"
  },
  "language_info": {
   "codemirror_mode": {
    "name": "ipython",
    "version": 3
   },
   "file_extension": ".py",
   "mimetype": "text/x-python",
   "name": "python",
   "nbconvert_exporter": "python",
   "pygments_lexer": "ipython3",
   "version": "3.9.16"
  },
  "orig_nbformat": 4
 },
 "nbformat": 4,
 "nbformat_minor": 2
}
